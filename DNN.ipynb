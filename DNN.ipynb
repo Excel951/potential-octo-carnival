{
 "cells": [
  {
   "metadata": {},
   "cell_type": "markdown",
   "source": "Import Lib",
   "id": "ba425994aef29f99"
  },
  {
   "metadata": {
    "ExecuteTime": {
     "end_time": "2024-06-15T09:03:17.618690Z",
     "start_time": "2024-06-15T09:03:17.615687Z"
    }
   },
   "cell_type": "code",
   "source": [
    "import os.path\n",
    "import matplotlib.pyplot as plt\n",
    "import numpy as np\n",
    "import pandas as pd\n",
    "import tensorflow as tf\n",
    "from sklearn.preprocessing import MinMaxScaler, LabelEncoder"
   ],
   "id": "f4121a35934ffa9e",
   "outputs": [],
   "execution_count": 18
  },
  {
   "metadata": {},
   "cell_type": "markdown",
   "source": "Read Data and Concatenate it",
   "id": "7fe1661f7fd67468"
  },
  {
   "metadata": {
    "ExecuteTime": {
     "end_time": "2024-06-15T09:03:17.732373Z",
     "start_time": "2024-06-15T09:03:17.677294Z"
    }
   },
   "cell_type": "code",
   "source": [
    "dir2024 = '2024'\n",
    "jan24 = pd.read_csv(\n",
    "    os.path.join(dir2024, 'januari-banyaknya-kunjungan-baru-lama-di-puskesmas-menurut-poli-per-kecamatan.csv'),\n",
    "    delimiter=';', encoding='iso-8859-1')\n",
    "feb24 = pd.read_csv(\n",
    "    os.path.join(dir2024, 'februari-banyaknya-kunjungan-baru-lama-di-puskesmas-menurut-poli-per-kecamatan.csv'),\n",
    "    delimiter=';', encoding='iso-8859-1')\n",
    "mar24 = pd.read_csv(\n",
    "    os.path.join(dir2024, 'maret-banyaknya-kunjungan-baru-lama-di-puskesmas-menurut-poli-per-kecamatan.csv'),\n",
    "    delimiter=';', encoding='iso-8859-1')\n",
    "apr24 = pd.read_csv(\n",
    "    os.path.join(dir2024, 'april-banyaknya-kunjungan-baru-lama-di-puskesmas-menurut-poli-per-kecamatan.csv'),\n",
    "    delimiter=';', encoding='iso-8859-1')\n",
    "mei24 = pd.read_csv(\n",
    "    os.path.join(dir2024, 'mei-banyaknya-kunjungan-baru-lama-di-puskesmas-menurut-poli-per-kecamatan.csv'),\n",
    "    delimiter=';', encoding='iso-8859-1')\n",
    "\n",
    "jan23 = pd.read_csv('./2023/januari-jumlah-kunjungan-puskesmas-lama-baru-2023.csv', delimiter=';',\n",
    "                    encoding='iso-8859-1')\n",
    "feb23 = pd.read_csv('./2023/februari-jumlah-kunjungan-puskesmas-lama-baru-2023.csv', delimiter=';',\n",
    "                    encoding='iso-8859-1')\n",
    "mar23 = pd.read_csv('./2023/maret-jumlah-kunjungan-puskesmas-lama-baru-2023.csv', delimiter=';', encoding='iso-8859-1')\n",
    "apr23 = pd.read_csv('./2023/april-jumlah-kunjungan-puskesmas-lama-baru-2023.csv', delimiter=';', encoding='iso-8859-1')\n",
    "mei23 = pd.read_csv('./2023/mei-jumlah-kunjungan-puskesmas-lama-baru-2023.csv', delimiter=';', encoding='iso-8859-1')\n",
    "jun23 = pd.read_csv('./2023/juni-jumlah-kunjungan-puskesmas-lama-baru-2023.csv', delimiter=';', encoding='iso-8859-1')\n",
    "jul23 = pd.read_csv('./2023/juli-jumlah-kunjungan-puskesmas-lama-baru-2023.csv', delimiter=';', encoding='iso-8859-1')\n",
    "agu23 = pd.read_csv('./2023/agustus-jumlah-kunjungan-puskesmas-lama-baru-2023.csv', delimiter=';',\n",
    "                    encoding='iso-8859-1')\n",
    "sep23 = pd.read_csv('./2023/september-jumlah-kunjungan-puskesmas-lama-baru-2023.csv', delimiter=';',\n",
    "                    encoding='iso-8859-1')\n",
    "okt23 = pd.read_csv('./2023/oktober-jumlah-kunjungan-puskesmas-lama-baru-2023.csv', delimiter=';',\n",
    "                    encoding='iso-8859-1')\n",
    "nov23 = pd.read_csv('./2023/november-jumlah-kunjungan-puskesmas-lama-baru-2023.csv', delimiter=';',\n",
    "                    encoding='iso-8859-1')\n",
    "des23 = pd.read_csv('./2023/desember-banyaknya-kunjungan-baru-lama-di-puskesmas-menurut-poli-per-kecamatan-1-1.csv',\n",
    "                    delimiter=';', encoding='iso-8859-1')\n",
    "\n",
    "jan22 = pd.read_csv('./2022/banyaknya-kunjungan-di-puskesmas-per-kecamatan-bulan-januari-2022.csv', delimiter=';',\n",
    "                    encoding='iso-8859-1')\n",
    "feb22 = pd.read_csv('./2022/banyaknya-kunjungan-di-puskesmas-per-kecamatan-bulan-februari-2022.csv', delimiter=';',\n",
    "                    encoding='iso-8859-1')\n",
    "mar22 = pd.read_csv('./2022/banyaknya-kunjungan-di-puskesmas-per-kecamatan-bulan-maret-2022.csv', delimiter=';',\n",
    "                    encoding='iso-8859-1')\n",
    "apr22 = pd.read_csv('./2022/banyaknya-kunjungan-di-puskesmas-per-kecamatan-bulan-april-2022.csv', delimiter=';',\n",
    "                    encoding='iso-8859-1')\n",
    "mei22 = pd.read_csv('./2022/banyaknya-kunjungan-di-puskesmas-per-kecamatan-bulan-mei-2022.csv', delimiter=';',\n",
    "                    encoding='iso-8859-1')\n",
    "jun22 = pd.read_csv('./2022/banyaknya-kunjungan-di-puskesmas-per-kecamatan-bulan-juni-2022.csv', delimiter=';',\n",
    "                    encoding='iso-8859-1')\n",
    "jul22 = pd.read_csv('./2022/banyaknya-kunjungan-di-puskesmas-per-kecamatan-bulan-juli-2022.csv', delimiter=';',\n",
    "                    encoding='iso-8859-1')\n",
    "agu22 = pd.read_csv('./2022/banyaknya-kunjungan-di-puskesmas-per-kecamatan-bulan-agustus-2022.csv', delimiter=';',\n",
    "                    encoding='iso-8859-1')\n",
    "sep22 = pd.read_csv('./2022/banyaknya-kunjungan-di-puskesmas-per-kecamatan-tahun-2022-september.csv', delimiter=';',\n",
    "                    encoding='iso-8859-1')\n",
    "okt22 = pd.read_csv('./2022/oktober-banyaknya-kunjungan-di-puskesmas-per-kecamatan-tahun-2022.csv', delimiter=';',\n",
    "                    encoding='iso-8859-1')\n",
    "nov22 = pd.read_csv('./2022/november-banyaknya-kunjungan-di-puskesmas-per-kecamatan-tahun-2022.csv', delimiter=';',\n",
    "                    encoding='iso-8859-1')\n",
    "des22 = pd.read_csv('./2022/desember-banyaknya-kunjungan-di-puskesmas-per-kecamatan-tahun-2022.csv', delimiter=';',\n",
    "                    encoding='iso-8859-1')\n",
    "\n",
    "# Menambahkan kolom 'Periode' ke setiap DataFrame\n",
    "jan24['Periode'] = 'January 2024'\n",
    "feb24['Periode'] = 'February 2024'\n",
    "mar24['Periode'] = 'March 2024'\n",
    "apr24['Periode'] = 'April 2024'\n",
    "mei24['Periode'] = 'May 2024'\n",
    "\n",
    "jan23['Periode'] = 'January 2023'\n",
    "feb23['Periode'] = 'February 2023'\n",
    "mar23['Periode'] = 'March 2023'\n",
    "apr23['Periode'] = 'April 2023'\n",
    "mei23['Periode'] = 'May 2023'\n",
    "jun23['Periode'] = 'June 2023'\n",
    "jul23['Periode'] = 'July 2023'\n",
    "agu23['Periode'] = 'August 2023'\n",
    "sep23['Periode'] = 'September 2023'\n",
    "okt23['Periode'] = 'October 2023'\n",
    "nov23['Periode'] = 'November 2023'\n",
    "des23['Periode'] = 'December 2023'\n",
    "\n",
    "jan22['Periode'] = 'January 2022'\n",
    "feb22['Periode'] = 'February 2022'\n",
    "mar22['Periode'] = 'March 2022'\n",
    "apr22['Periode'] = 'April 2022'\n",
    "mei22['Periode'] = 'May 2022'\n",
    "jun22['Periode'] = 'June 2022'\n",
    "jul22['Periode'] = 'July 2022'\n",
    "agu22['Periode'] = 'August 2022'\n",
    "sep22['Periode'] = 'September 2022'\n",
    "okt22['Periode'] = 'October 2022'\n",
    "nov22['Periode'] = 'November 2022'\n",
    "des22['Periode'] = 'December 2022'"
   ],
   "id": "initial_id",
   "outputs": [],
   "execution_count": 19
  },
  {
   "metadata": {
    "ExecuteTime": {
     "end_time": "2024-06-15T09:03:17.744380Z",
     "start_time": "2024-06-15T09:03:17.733374Z"
    }
   },
   "cell_type": "code",
   "source": [
    "data = pd.concat([\n",
    "    jan22, feb22, mar22, apr22, mei22, jun22, jul22, agu22, sep22, okt22, nov22, des22, jan23, feb23, mar23, apr23,\n",
    "    mei23, jun23, jul23, agu23, sep23, okt23, nov23, des23, jan24, feb24,\n",
    "    # mar24, apr24, mei24\n",
    "])\n",
    "val_data = pd.concat([\n",
    "    mar24, apr24, mei24\n",
    "])"
   ],
   "id": "4158df2b1052a1c9",
   "outputs": [],
   "execution_count": 20
  },
  {
   "metadata": {
    "ExecuteTime": {
     "end_time": "2024-06-15T09:32:12.989097Z",
     "start_time": "2024-06-15T09:32:12.984093Z"
    }
   },
   "cell_type": "code",
   "source": [
    "# Filter data untuk Puskesmas A (contoh)\n",
    "puskesmas_name = 'Puskesmas Dukuh Kupang'\n",
    "data_puskesmas_a = data[data['Nama Puskesmas'] == puskesmas_name]\n",
    "val_data_puskesmas_a = val_data[val_data['Nama Puskesmas'] == puskesmas_name]"
   ],
   "id": "aee274c155043f46",
   "outputs": [],
   "execution_count": 54
  },
  {
   "metadata": {
    "ExecuteTime": {
     "end_time": "2024-06-15T09:32:14.390329Z",
     "start_time": "2024-06-15T09:32:14.381820Z"
    }
   },
   "cell_type": "code",
   "source": [
    "total_per_bulan = data_puskesmas_a.groupby('Periode')['Total Kunjungan'].sum().reset_index()\n",
    "total_per_bulan['Periode'] = pd.to_datetime(total_per_bulan['Periode'], format='%B %Y')\n",
    "total_per_bulan = total_per_bulan.sort_values('Periode')\n",
    "print('Dataset', total_per_bulan)\n",
    "# print(total_per_bulan.describe())"
   ],
   "id": "1d010e2110cbbe89",
   "outputs": [
    {
     "name": "stdout",
     "output_type": "stream",
     "text": [
      "Dataset       Periode  Total Kunjungan\n",
      "9  2022-01-01             3655\n",
      "6  2022-02-01             3507\n",
      "16 2022-03-01             3467\n",
      "0  2022-04-01             2944\n",
      "18 2022-05-01             3500\n",
      "14 2022-06-01             4580\n",
      "12 2022-07-01             3881\n",
      "2  2022-08-01             4628\n",
      "24 2022-09-01             5167\n",
      "22 2022-10-01             4124\n",
      "20 2022-11-01             5102\n",
      "4  2022-12-01             5380\n",
      "10 2023-01-01             5721\n",
      "7  2023-02-01             4952\n",
      "17 2023-03-01             5226\n",
      "1  2023-04-01             3885\n",
      "19 2023-05-01             5622\n",
      "15 2023-06-01             5622\n",
      "13 2023-07-01             5617\n",
      "3  2023-08-01             6187\n",
      "25 2023-09-01             6077\n",
      "23 2023-10-01             6253\n",
      "21 2023-11-01             5926\n",
      "5  2023-12-01             6998\n",
      "11 2024-01-01             6998\n",
      "8  2024-02-01             4952\n"
     ]
    }
   ],
   "execution_count": 55
  },
  {
   "metadata": {
    "ExecuteTime": {
     "end_time": "2024-06-15T09:32:19.318021Z",
     "start_time": "2024-06-15T09:32:19.309505Z"
    }
   },
   "cell_type": "code",
   "source": [
    "val_total_per_bulan = val_data_puskesmas_a.groupby(['Periode'])['Total Kunjungan'].sum().reset_index()\n",
    "val_total_per_bulan['Periode'] = pd.to_datetime(val_total_per_bulan['Periode'], format='%B %Y')\n",
    "val_total_per_bulan = val_total_per_bulan.sort_values('Periode')\n",
    "print('Val', val_total_per_bulan)\n",
    "# print(val_total_per_bulan.describe())"
   ],
   "id": "ef06418c05df63af",
   "outputs": [
    {
     "name": "stdout",
     "output_type": "stream",
     "text": [
      "Val      Periode  Total Kunjungan\n",
      "1 2024-03-01             5751\n",
      "0 2024-04-01             5751\n",
      "2 2024-05-01             4761\n"
     ]
    }
   ],
   "execution_count": 57
  },
  {
   "metadata": {
    "ExecuteTime": {
     "end_time": "2024-06-15T09:32:19.325185Z",
     "start_time": "2024-06-15T09:32:19.319020Z"
    }
   },
   "cell_type": "code",
   "source": [
    "# Normalisasi data Total Kunjungan\n",
    "scaler = MinMaxScaler(feature_range=(0, 1))\n",
    "data_scaled = scaler.fit_transform(total_per_bulan['Total Kunjungan'].values.reshape(-1, 1))\n",
    "val_data_scaled = scaler.fit_transform(total_per_bulan['Total Kunjungan'].values.reshape(-1, 1))"
   ],
   "id": "f4966a50a73caac8",
   "outputs": [],
   "execution_count": 58
  },
  {
   "metadata": {
    "ExecuteTime": {
     "end_time": "2024-06-15T09:32:19.329186Z",
     "start_time": "2024-06-15T09:32:19.326184Z"
    }
   },
   "cell_type": "code",
   "source": [
    "# Menentukan parameter untuk jendela waktu\n",
    "time_step = 6  # Jumlah bulan yang digunakan sebagai input untuk memprediksi bulan berikutnya\n",
    "BATCH_SIZE = 3\n",
    "N_PAST = 6  # Jumlah bulan sebelumnya yang digunakan untuk prediksi\n",
    "N_FUTURE = 2  # Prediksi hanya satu bulan ke depan\n",
    "SHIFT = 1  # Perpindahan jendela waktu"
   ],
   "id": "15554922ad2848cb",
   "outputs": [],
   "execution_count": 59
  },
  {
   "metadata": {
    "ExecuteTime": {
     "end_time": "2024-06-15T09:32:19.359064Z",
     "start_time": "2024-06-15T09:32:19.354063Z"
    }
   },
   "cell_type": "code",
   "source": [
    "# Fungsi untuk membuat dataset dengan jendela waktu\n",
    "def windowed_dataset(series, batch_size, n_past=3, n_future=1, shift=1):\n",
    "    dataset = tf.data.Dataset.from_tensor_slices(series)\n",
    "    dataset = dataset.window(size=n_past + n_future, shift=shift, drop_remainder=True)\n",
    "    dataset = dataset.flat_map(lambda window: window.batch(n_past + n_future))\n",
    "    dataset = dataset.shuffle(1000)\n",
    "    dataset = dataset.map(lambda window: (window[:-n_future], window[-n_future:, :1]))\n",
    "    dataset = dataset.batch(batch_size).prefetch(1)\n",
    "    return dataset"
   ],
   "id": "d8aca2da2c7b9a2f",
   "outputs": [],
   "execution_count": 60
  },
  {
   "metadata": {
    "ExecuteTime": {
     "end_time": "2024-06-15T09:32:19.405618Z",
     "start_time": "2024-06-15T09:32:19.360068Z"
    }
   },
   "cell_type": "code",
   "source": [
    "# Buat dataset menggunakan windowed_dataset function\n",
    "dataset = windowed_dataset(data_scaled, BATCH_SIZE, n_past=N_PAST, n_future=N_FUTURE, shift=SHIFT)\n",
    "val_dataset = windowed_dataset(val_data_scaled, BATCH_SIZE, n_past=N_PAST, n_future=N_FUTURE, shift=SHIFT)"
   ],
   "id": "58a63bc5db2a5aef",
   "outputs": [],
   "execution_count": 61
  },
  {
   "metadata": {
    "ExecuteTime": {
     "end_time": "2024-06-15T09:32:19.451231Z",
     "start_time": "2024-06-15T09:32:19.406618Z"
    }
   },
   "cell_type": "code",
   "source": [
    "# Build the model\n",
    "model = tf.keras.models.Sequential([\n",
    "    tf.keras.layers.Dense(30, input_shape=[time_step], activation=\"relu\"),\n",
    "    tf.keras.layers.Dense(10, activation=\"relu\"),\n",
    "    tf.keras.layers.Dense(1)\n",
    "])\n",
    "\n",
    "# Print the model summary\n",
    "model.summary()"
   ],
   "id": "317005dfe881e069",
   "outputs": [
    {
     "name": "stdout",
     "output_type": "stream",
     "text": [
      "Model: \"sequential_1\"\n",
      "_________________________________________________________________\n",
      " Layer (type)                Output Shape              Param #   \n",
      "=================================================================\n",
      " dense_3 (Dense)             (None, 30)                210       \n",
      "                                                                 \n",
      " dense_4 (Dense)             (None, 10)                310       \n",
      "                                                                 \n",
      " dense_5 (Dense)             (None, 1)                 11        \n",
      "                                                                 \n",
      "=================================================================\n",
      "Total params: 531 (2.07 KB)\n",
      "Trainable params: 531 (2.07 KB)\n",
      "Non-trainable params: 0 (0.00 Byte)\n",
      "_________________________________________________________________\n"
     ]
    }
   ],
   "execution_count": 62
  },
  {
   "metadata": {
    "ExecuteTime": {
     "end_time": "2024-06-15T09:32:22.676387Z",
     "start_time": "2024-06-15T09:32:19.452238Z"
    }
   },
   "cell_type": "code",
   "source": [
    "# Set the learning rate scheduler\n",
    "lr_schedule = tf.keras.callbacks.LearningRateScheduler(\n",
    "    lambda epoch: 1e-8 * 10**(epoch / 20))\n",
    "\n",
    "# Initialize the optimizer\n",
    "optimizer = tf.keras.optimizers.SGD(momentum=0.9)\n",
    "\n",
    "# Set the training parameters\n",
    "model.compile(loss=tf.keras.losses.Huber(), optimizer=optimizer)\n",
    "\n",
    "# Train the model\n",
    "history = model.fit(dataset, epochs=100, callbacks=[lr_schedule])"
   ],
   "id": "a7e567ae4d882362",
   "outputs": [
    {
     "name": "stdout",
     "output_type": "stream",
     "text": [
      "Epoch 1/100\n",
      "7/7 [==============================] - 0s 5ms/step - loss: 0.1297 - lr: 1.0000e-08\n",
      "Epoch 2/100\n",
      "7/7 [==============================] - 0s 1ms/step - loss: 0.1297 - lr: 1.1220e-08\n",
      "Epoch 3/100\n",
      "7/7 [==============================] - 0s 1ms/step - loss: 0.1297 - lr: 1.2589e-08\n",
      "Epoch 4/100\n",
      "7/7 [==============================] - 0s 1ms/step - loss: 0.1297 - lr: 1.4125e-08\n",
      "Epoch 5/100\n",
      "7/7 [==============================] - 0s 1ms/step - loss: 0.1297 - lr: 1.5849e-08\n",
      "Epoch 6/100\n",
      "7/7 [==============================] - 0s 1ms/step - loss: 0.1297 - lr: 1.7783e-08\n",
      "Epoch 7/100\n",
      "7/7 [==============================] - 0s 1ms/step - loss: 0.1297 - lr: 1.9953e-08\n",
      "Epoch 8/100\n",
      "7/7 [==============================] - 0s 1ms/step - loss: 0.1297 - lr: 2.2387e-08\n",
      "Epoch 9/100\n",
      "7/7 [==============================] - 0s 1ms/step - loss: 0.1297 - lr: 2.5119e-08\n",
      "Epoch 10/100\n",
      "7/7 [==============================] - 0s 1ms/step - loss: 0.1297 - lr: 2.8184e-08\n",
      "Epoch 11/100\n",
      "7/7 [==============================] - 0s 1ms/step - loss: 0.1297 - lr: 3.1623e-08\n",
      "Epoch 12/100\n",
      "7/7 [==============================] - 0s 1ms/step - loss: 0.1297 - lr: 3.5481e-08\n",
      "Epoch 13/100\n",
      "7/7 [==============================] - 0s 1ms/step - loss: 0.1297 - lr: 3.9811e-08\n",
      "Epoch 14/100\n",
      "7/7 [==============================] - 0s 1ms/step - loss: 0.1297 - lr: 4.4668e-08\n",
      "Epoch 15/100\n",
      "7/7 [==============================] - 0s 1ms/step - loss: 0.1297 - lr: 5.0119e-08\n",
      "Epoch 16/100\n",
      "7/7 [==============================] - 0s 1ms/step - loss: 0.1297 - lr: 5.6234e-08\n",
      "Epoch 17/100\n",
      "7/7 [==============================] - 0s 1ms/step - loss: 0.1297 - lr: 6.3096e-08\n",
      "Epoch 18/100\n",
      "7/7 [==============================] - 0s 1ms/step - loss: 0.1297 - lr: 7.0795e-08\n",
      "Epoch 19/100\n",
      "7/7 [==============================] - 0s 1ms/step - loss: 0.1297 - lr: 7.9433e-08\n",
      "Epoch 20/100\n",
      "7/7 [==============================] - 0s 1ms/step - loss: 0.1297 - lr: 8.9125e-08\n",
      "Epoch 21/100\n",
      "7/7 [==============================] - 0s 1ms/step - loss: 0.1297 - lr: 1.0000e-07\n",
      "Epoch 22/100\n",
      "7/7 [==============================] - 0s 1ms/step - loss: 0.1297 - lr: 1.1220e-07\n",
      "Epoch 23/100\n",
      "7/7 [==============================] - 0s 1ms/step - loss: 0.1297 - lr: 1.2589e-07\n",
      "Epoch 24/100\n",
      "7/7 [==============================] - 0s 1ms/step - loss: 0.1297 - lr: 1.4125e-07\n",
      "Epoch 25/100\n",
      "7/7 [==============================] - 0s 1ms/step - loss: 0.1297 - lr: 1.5849e-07\n",
      "Epoch 26/100\n",
      "7/7 [==============================] - 0s 1ms/step - loss: 0.1297 - lr: 1.7783e-07\n",
      "Epoch 27/100\n",
      "7/7 [==============================] - 0s 1ms/step - loss: 0.1297 - lr: 1.9953e-07\n",
      "Epoch 28/100\n",
      "7/7 [==============================] - 0s 1ms/step - loss: 0.1297 - lr: 2.2387e-07\n",
      "Epoch 29/100\n",
      "7/7 [==============================] - 0s 1ms/step - loss: 0.1297 - lr: 2.5119e-07\n",
      "Epoch 30/100\n",
      "7/7 [==============================] - 0s 1ms/step - loss: 0.1297 - lr: 2.8184e-07\n",
      "Epoch 31/100\n",
      "7/7 [==============================] - 0s 1ms/step - loss: 0.1297 - lr: 3.1623e-07\n",
      "Epoch 32/100\n",
      "7/7 [==============================] - 0s 2ms/step - loss: 0.1297 - lr: 3.5481e-07\n",
      "Epoch 33/100\n",
      "7/7 [==============================] - 0s 1ms/step - loss: 0.1296 - lr: 3.9811e-07\n",
      "Epoch 34/100\n",
      "7/7 [==============================] - 0s 1ms/step - loss: 0.1296 - lr: 4.4668e-07\n",
      "Epoch 35/100\n",
      "7/7 [==============================] - 0s 1ms/step - loss: 0.1296 - lr: 5.0119e-07\n",
      "Epoch 36/100\n",
      "7/7 [==============================] - 0s 1ms/step - loss: 0.1296 - lr: 5.6234e-07\n",
      "Epoch 37/100\n",
      "7/7 [==============================] - 0s 1ms/step - loss: 0.1296 - lr: 6.3096e-07\n",
      "Epoch 38/100\n",
      "7/7 [==============================] - 0s 1ms/step - loss: 0.1296 - lr: 7.0795e-07\n",
      "Epoch 39/100\n",
      "7/7 [==============================] - 0s 1ms/step - loss: 0.1295 - lr: 7.9433e-07\n",
      "Epoch 40/100\n",
      "7/7 [==============================] - 0s 1ms/step - loss: 0.1295 - lr: 8.9125e-07\n",
      "Epoch 41/100\n",
      "7/7 [==============================] - 0s 1ms/step - loss: 0.1295 - lr: 1.0000e-06\n",
      "Epoch 42/100\n",
      "7/7 [==============================] - 0s 1ms/step - loss: 0.1294 - lr: 1.1220e-06\n",
      "Epoch 43/100\n",
      "7/7 [==============================] - 0s 1000us/step - loss: 0.1294 - lr: 1.2589e-06\n",
      "Epoch 44/100\n",
      "7/7 [==============================] - 0s 1ms/step - loss: 0.1294 - lr: 1.4125e-06\n",
      "Epoch 45/100\n",
      "7/7 [==============================] - 0s 1ms/step - loss: 0.1293 - lr: 1.5849e-06\n",
      "Epoch 46/100\n",
      "7/7 [==============================] - 0s 1ms/step - loss: 0.1293 - lr: 1.7783e-06\n",
      "Epoch 47/100\n",
      "7/7 [==============================] - 0s 1ms/step - loss: 0.1292 - lr: 1.9953e-06\n",
      "Epoch 48/100\n",
      "7/7 [==============================] - 0s 1ms/step - loss: 0.1291 - lr: 2.2387e-06\n",
      "Epoch 49/100\n",
      "7/7 [==============================] - 0s 1ms/step - loss: 0.1291 - lr: 2.5119e-06\n",
      "Epoch 50/100\n",
      "7/7 [==============================] - 0s 1ms/step - loss: 0.1290 - lr: 2.8184e-06\n",
      "Epoch 51/100\n",
      "7/7 [==============================] - 0s 1ms/step - loss: 0.1289 - lr: 3.1623e-06\n",
      "Epoch 52/100\n",
      "7/7 [==============================] - 0s 1ms/step - loss: 0.1288 - lr: 3.5481e-06\n",
      "Epoch 53/100\n",
      "7/7 [==============================] - 0s 1ms/step - loss: 0.1286 - lr: 3.9811e-06\n",
      "Epoch 54/100\n",
      "7/7 [==============================] - 0s 1ms/step - loss: 0.1285 - lr: 4.4668e-06\n",
      "Epoch 55/100\n",
      "7/7 [==============================] - 0s 2ms/step - loss: 0.1284 - lr: 5.0119e-06\n",
      "Epoch 56/100\n",
      "7/7 [==============================] - 0s 1ms/step - loss: 0.1282 - lr: 5.6234e-06\n",
      "Epoch 57/100\n",
      "7/7 [==============================] - 0s 1ms/step - loss: 0.1280 - lr: 6.3096e-06\n",
      "Epoch 58/100\n",
      "7/7 [==============================] - 0s 1ms/step - loss: 0.1278 - lr: 7.0795e-06\n",
      "Epoch 59/100\n",
      "7/7 [==============================] - 0s 1ms/step - loss: 0.1276 - lr: 7.9433e-06\n",
      "Epoch 60/100\n",
      "7/7 [==============================] - 0s 1ms/step - loss: 0.1273 - lr: 8.9125e-06\n",
      "Epoch 61/100\n",
      "7/7 [==============================] - 0s 1ms/step - loss: 0.1270 - lr: 1.0000e-05\n",
      "Epoch 62/100\n",
      "7/7 [==============================] - 0s 1ms/step - loss: 0.1267 - lr: 1.1220e-05\n",
      "Epoch 63/100\n",
      "7/7 [==============================] - 0s 1ms/step - loss: 0.1263 - lr: 1.2589e-05\n",
      "Epoch 64/100\n",
      "7/7 [==============================] - 0s 1ms/step - loss: 0.1259 - lr: 1.4125e-05\n",
      "Epoch 65/100\n",
      "7/7 [==============================] - 0s 1ms/step - loss: 0.1255 - lr: 1.5849e-05\n",
      "Epoch 66/100\n",
      "7/7 [==============================] - 0s 1ms/step - loss: 0.1249 - lr: 1.7783e-05\n",
      "Epoch 67/100\n",
      "7/7 [==============================] - 0s 1ms/step - loss: 0.1244 - lr: 1.9953e-05\n",
      "Epoch 68/100\n",
      "7/7 [==============================] - 0s 1ms/step - loss: 0.1237 - lr: 2.2387e-05\n",
      "Epoch 69/100\n",
      "7/7 [==============================] - 0s 1ms/step - loss: 0.1230 - lr: 2.5119e-05\n",
      "Epoch 70/100\n",
      "7/7 [==============================] - 0s 1ms/step - loss: 0.1222 - lr: 2.8184e-05\n",
      "Epoch 71/100\n",
      "7/7 [==============================] - 0s 1ms/step - loss: 0.1213 - lr: 3.1623e-05\n",
      "Epoch 72/100\n",
      "7/7 [==============================] - 0s 1ms/step - loss: 0.1203 - lr: 3.5481e-05\n",
      "Epoch 73/100\n",
      "7/7 [==============================] - 0s 1ms/step - loss: 0.1192 - lr: 3.9811e-05\n",
      "Epoch 74/100\n",
      "7/7 [==============================] - 0s 1ms/step - loss: 0.1180 - lr: 4.4668e-05\n",
      "Epoch 75/100\n",
      "7/7 [==============================] - 0s 1ms/step - loss: 0.1167 - lr: 5.0119e-05\n",
      "Epoch 76/100\n",
      "7/7 [==============================] - 0s 1ms/step - loss: 0.1151 - lr: 5.6234e-05\n",
      "Epoch 77/100\n",
      "7/7 [==============================] - 0s 1ms/step - loss: 0.1135 - lr: 6.3096e-05\n",
      "Epoch 78/100\n",
      "7/7 [==============================] - 0s 1ms/step - loss: 0.1116 - lr: 7.0795e-05\n",
      "Epoch 79/100\n",
      "7/7 [==============================] - 0s 1ms/step - loss: 0.1094 - lr: 7.9433e-05\n",
      "Epoch 80/100\n",
      "7/7 [==============================] - 0s 1ms/step - loss: 0.1071 - lr: 8.9125e-05\n",
      "Epoch 81/100\n",
      "7/7 [==============================] - 0s 1ms/step - loss: 0.1047 - lr: 1.0000e-04\n",
      "Epoch 82/100\n",
      "7/7 [==============================] - 0s 1ms/step - loss: 0.1019 - lr: 1.1220e-04\n",
      "Epoch 83/100\n",
      "7/7 [==============================] - 0s 1ms/step - loss: 0.0987 - lr: 1.2589e-04\n",
      "Epoch 84/100\n",
      "7/7 [==============================] - 0s 1ms/step - loss: 0.0955 - lr: 1.4125e-04\n",
      "Epoch 85/100\n",
      "7/7 [==============================] - 0s 1ms/step - loss: 0.0918 - lr: 1.5849e-04\n",
      "Epoch 86/100\n",
      "7/7 [==============================] - 0s 1ms/step - loss: 0.0880 - lr: 1.7783e-04\n",
      "Epoch 87/100\n",
      "7/7 [==============================] - 0s 1ms/step - loss: 0.0839 - lr: 1.9953e-04\n",
      "Epoch 88/100\n",
      "7/7 [==============================] - 0s 1ms/step - loss: 0.0793 - lr: 2.2387e-04\n",
      "Epoch 89/100\n",
      "7/7 [==============================] - 0s 1ms/step - loss: 0.0746 - lr: 2.5119e-04\n",
      "Epoch 90/100\n",
      "7/7 [==============================] - 0s 1ms/step - loss: 0.0697 - lr: 2.8184e-04\n",
      "Epoch 91/100\n",
      "7/7 [==============================] - 0s 1ms/step - loss: 0.0646 - lr: 3.1623e-04\n",
      "Epoch 92/100\n",
      "7/7 [==============================] - 0s 1ms/step - loss: 0.0592 - lr: 3.5481e-04\n",
      "Epoch 93/100\n",
      "7/7 [==============================] - 0s 1ms/step - loss: 0.0540 - lr: 3.9811e-04\n",
      "Epoch 94/100\n",
      "7/7 [==============================] - 0s 1ms/step - loss: 0.0485 - lr: 4.4668e-04\n",
      "Epoch 95/100\n",
      "7/7 [==============================] - 0s 1ms/step - loss: 0.0431 - lr: 5.0119e-04\n",
      "Epoch 96/100\n",
      "7/7 [==============================] - 0s 1ms/step - loss: 0.0381 - lr: 5.6234e-04\n",
      "Epoch 97/100\n",
      "7/7 [==============================] - 0s 1ms/step - loss: 0.0331 - lr: 6.3096e-04\n",
      "Epoch 98/100\n",
      "7/7 [==============================] - 0s 3ms/step - loss: 0.0283 - lr: 7.0795e-04\n",
      "Epoch 99/100\n",
      "7/7 [==============================] - 0s 1ms/step - loss: 0.0240 - lr: 7.9433e-04\n",
      "Epoch 100/100\n",
      "7/7 [==============================] - 0s 1ms/step - loss: 0.0206 - lr: 8.9125e-04\n"
     ]
    }
   ],
   "execution_count": 63
  },
  {
   "metadata": {
    "ExecuteTime": {
     "end_time": "2024-06-15T09:32:23.215122Z",
     "start_time": "2024-06-15T09:32:22.677391Z"
    }
   },
   "cell_type": "code",
   "source": [
    "# Define the learning rate array\n",
    "lrs = 1e-8 * (10 ** (np.arange(100) / 20))\n",
    "\n",
    "# Set the figure size\n",
    "plt.figure(figsize=(10, 6))\n",
    "\n",
    "# Set the grid\n",
    "plt.grid(True)\n",
    "\n",
    "# Plot the loss in log scale\n",
    "plt.semilogx(lrs, history.history[\"loss\"])\n",
    "\n",
    "# Increase the tickmarks size\n",
    "plt.tick_params('both', length=10, width=1, which='both')\n",
    "\n",
    "# Set the plot boundaries\n",
    "plt.axis([1e-8, 1e-3, 0, 100])"
   ],
   "id": "ab60e4d4f75e3f78",
   "outputs": [
    {
     "data": {
      "text/plain": [
       "(1e-08, 0.001, 0.0, 100.0)"
      ]
     },
     "execution_count": 64,
     "metadata": {},
     "output_type": "execute_result"
    },
    {
     "data": {
      "text/plain": [
       "<Figure size 1000x600 with 1 Axes>"
      ],
      "image/png": "[encoded data removed]"
     },
     "metadata": {},
     "output_type": "display_data"
    }
   ],
   "execution_count": 64
  },
  {
   "metadata": {
    "ExecuteTime": {
     "end_time": "2024-06-15T09:32:23.261512Z",
     "start_time": "2024-06-15T09:32:23.216122Z"
    }
   },
   "cell_type": "code",
   "source": [
    "# Reset states generated by Keras\n",
    "tf.keras.backend.clear_session()\n",
    "\n",
    "# Build the Model\n",
    "model = tf.keras.models.Sequential([\n",
    "    tf.keras.layers.Dense(30, input_shape=[time_step], activation=\"relu\"),\n",
    "    tf.keras.layers.Dense(10, activation=\"relu\"),\n",
    "    tf.keras.layers.Dense(1)\n",
    "])"
   ],
   "id": "18c0eeaab892dfd0",
   "outputs": [],
   "execution_count": 65
  },
  {
   "metadata": {
    "ExecuteTime": {
     "end_time": "2024-06-15T09:32:30.244295Z",
     "start_time": "2024-06-15T09:32:23.262018Z"
    }
   },
   "cell_type": "code",
   "source": [
    "# Set the learning rate\n",
    "# learning_rate = 2e-5\n",
    "learning_rate = 0.001\n",
    "\n",
    "# Set the optimizer\n",
    "optimizer = tf.keras.optimizers.SGD(learning_rate=learning_rate, momentum=0.9)\n",
    "\n",
    "# Set the training parameters\n",
    "model.compile(loss=tf.keras.losses.Huber(),\n",
    "              optimizer=optimizer,\n",
    "              metrics=[\"mae\"],)\n",
    "\n",
    "# Train the model\n",
    "history = model.fit(dataset,epochs=100,validation_data=val_dataset)"
   ],
   "id": "1ca76f4e44bb14a8",
   "outputs": [
    {
     "name": "stdout",
     "output_type": "stream",
     "text": [
      "Epoch 1/100\n",
      "7/7 [==============================] - 0s 26ms/step - loss: 0.4139 - mae: 0.8745 - val_loss: 0.3516 - val_mae: 0.7987\n",
      "Epoch 2/100\n",
      "7/7 [==============================] - 0s 7ms/step - loss: 0.2957 - mae: 0.7216 - val_loss: 0.2044 - val_mae: 0.5955\n",
      "Epoch 3/100\n",
      "7/7 [==============================] - 0s 7ms/step - loss: 0.1572 - mae: 0.5172 - val_loss: 0.0952 - val_mae: 0.3927\n",
      "Epoch 4/100\n",
      "7/7 [==============================] - 0s 7ms/step - loss: 0.0697 - mae: 0.3282 - val_loss: 0.0366 - val_mae: 0.2350\n",
      "Epoch 5/100\n",
      "7/7 [==============================] - 0s 7ms/step - loss: 0.0266 - mae: 0.1987 - val_loss: 0.0168 - val_mae: 0.1501\n",
      "Epoch 6/100\n",
      "7/7 [==============================] - 0s 8ms/step - loss: 0.0141 - mae: 0.1356 - val_loss: 0.0129 - val_mae: 0.1249\n",
      "Epoch 7/100\n",
      "7/7 [==============================] - 0s 7ms/step - loss: 0.0131 - mae: 0.1252 - val_loss: 0.0133 - val_mae: 0.1253\n",
      "Epoch 8/100\n",
      "7/7 [==============================] - 0s 7ms/step - loss: 0.0137 - mae: 0.1266 - val_loss: 0.0137 - val_mae: 0.1267\n",
      "Epoch 9/100\n",
      "7/7 [==============================] - 0s 6ms/step - loss: 0.0137 - mae: 0.1266 - val_loss: 0.0135 - val_mae: 0.1257\n",
      "Epoch 10/100\n",
      "7/7 [==============================] - 0s 7ms/step - loss: 0.0134 - mae: 0.1254 - val_loss: 0.0131 - val_mae: 0.1242\n",
      "Epoch 11/100\n",
      "7/7 [==============================] - 0s 7ms/step - loss: 0.0130 - mae: 0.1235 - val_loss: 0.0128 - val_mae: 0.1226\n",
      "Epoch 12/100\n",
      "7/7 [==============================] - 0s 6ms/step - loss: 0.0127 - mae: 0.1218 - val_loss: 0.0127 - val_mae: 0.1219\n",
      "Epoch 13/100\n",
      "7/7 [==============================] - 0s 7ms/step - loss: 0.0126 - mae: 0.1217 - val_loss: 0.0126 - val_mae: 0.1220\n",
      "Epoch 14/100\n",
      "7/7 [==============================] - 0s 7ms/step - loss: 0.0127 - mae: 0.1229 - val_loss: 0.0125 - val_mae: 0.1227\n",
      "Epoch 15/100\n",
      "7/7 [==============================] - 0s 7ms/step - loss: 0.0125 - mae: 0.1227 - val_loss: 0.0125 - val_mae: 0.1227\n",
      "Epoch 16/100\n",
      "7/7 [==============================] - 0s 7ms/step - loss: 0.0125 - mae: 0.1235 - val_loss: 0.0125 - val_mae: 0.1233\n",
      "Epoch 17/100\n",
      "7/7 [==============================] - 0s 6ms/step - loss: 0.0125 - mae: 0.1232 - val_loss: 0.0125 - val_mae: 0.1228\n",
      "Epoch 18/100\n",
      "7/7 [==============================] - 0s 7ms/step - loss: 0.0125 - mae: 0.1230 - val_loss: 0.0124 - val_mae: 0.1226\n",
      "Epoch 19/100\n",
      "7/7 [==============================] - 0s 7ms/step - loss: 0.0125 - mae: 0.1224 - val_loss: 0.0124 - val_mae: 0.1216\n",
      "Epoch 20/100\n",
      "7/7 [==============================] - 0s 7ms/step - loss: 0.0124 - mae: 0.1217 - val_loss: 0.0124 - val_mae: 0.1215\n",
      "Epoch 21/100\n",
      "7/7 [==============================] - 0s 7ms/step - loss: 0.0124 - mae: 0.1217 - val_loss: 0.0124 - val_mae: 0.1215\n",
      "Epoch 22/100\n",
      "7/7 [==============================] - 0s 7ms/step - loss: 0.0124 - mae: 0.1215 - val_loss: 0.0123 - val_mae: 0.1213\n",
      "Epoch 23/100\n",
      "7/7 [==============================] - 0s 7ms/step - loss: 0.0124 - mae: 0.1211 - val_loss: 0.0123 - val_mae: 0.1206\n",
      "Epoch 24/100\n",
      "7/7 [==============================] - 0s 8ms/step - loss: 0.0123 - mae: 0.1206 - val_loss: 0.0123 - val_mae: 0.1204\n",
      "Epoch 25/100\n",
      "7/7 [==============================] - 0s 8ms/step - loss: 0.0123 - mae: 0.1203 - val_loss: 0.0123 - val_mae: 0.1202\n",
      "Epoch 26/100\n",
      "7/7 [==============================] - 0s 7ms/step - loss: 0.0123 - mae: 0.1202 - val_loss: 0.0123 - val_mae: 0.1200\n",
      "Epoch 27/100\n",
      "7/7 [==============================] - 0s 6ms/step - loss: 0.0123 - mae: 0.1200 - val_loss: 0.0123 - val_mae: 0.1199\n",
      "Epoch 28/100\n",
      "7/7 [==============================] - 0s 7ms/step - loss: 0.0123 - mae: 0.1201 - val_loss: 0.0122 - val_mae: 0.1198\n",
      "Epoch 29/100\n",
      "7/7 [==============================] - 0s 7ms/step - loss: 0.0122 - mae: 0.1195 - val_loss: 0.0122 - val_mae: 0.1195\n",
      "Epoch 30/100\n",
      "7/7 [==============================] - 0s 7ms/step - loss: 0.0122 - mae: 0.1194 - val_loss: 0.0122 - val_mae: 0.1192\n",
      "Epoch 31/100\n",
      "7/7 [==============================] - 0s 6ms/step - loss: 0.0123 - mae: 0.1194 - val_loss: 0.0122 - val_mae: 0.1192\n",
      "Epoch 32/100\n",
      "7/7 [==============================] - 0s 6ms/step - loss: 0.0122 - mae: 0.1192 - val_loss: 0.0122 - val_mae: 0.1191\n",
      "Epoch 33/100\n",
      "7/7 [==============================] - 0s 7ms/step - loss: 0.0122 - mae: 0.1195 - val_loss: 0.0121 - val_mae: 0.1191\n",
      "Epoch 34/100\n",
      "7/7 [==============================] - 0s 7ms/step - loss: 0.0122 - mae: 0.1193 - val_loss: 0.0121 - val_mae: 0.1189\n",
      "Epoch 35/100\n",
      "7/7 [==============================] - 0s 7ms/step - loss: 0.0122 - mae: 0.1191 - val_loss: 0.0121 - val_mae: 0.1188\n",
      "Epoch 36/100\n",
      "7/7 [==============================] - 0s 7ms/step - loss: 0.0121 - mae: 0.1188 - val_loss: 0.0121 - val_mae: 0.1187\n",
      "Epoch 37/100\n",
      "7/7 [==============================] - 0s 7ms/step - loss: 0.0121 - mae: 0.1186 - val_loss: 0.0122 - val_mae: 0.1184\n",
      "Epoch 38/100\n",
      "7/7 [==============================] - 0s 7ms/step - loss: 0.0122 - mae: 0.1185 - val_loss: 0.0122 - val_mae: 0.1182\n",
      "Epoch 39/100\n",
      "7/7 [==============================] - 0s 7ms/step - loss: 0.0122 - mae: 0.1184 - val_loss: 0.0121 - val_mae: 0.1181\n",
      "Epoch 40/100\n",
      "7/7 [==============================] - 0s 7ms/step - loss: 0.0122 - mae: 0.1196 - val_loss: 0.0120 - val_mae: 0.1185\n",
      "Epoch 41/100\n",
      "7/7 [==============================] - 0s 7ms/step - loss: 0.0120 - mae: 0.1185 - val_loss: 0.0120 - val_mae: 0.1185\n",
      "Epoch 42/100\n",
      "7/7 [==============================] - 0s 7ms/step - loss: 0.0120 - mae: 0.1185 - val_loss: 0.0120 - val_mae: 0.1183\n",
      "Epoch 43/100\n",
      "7/7 [==============================] - 0s 7ms/step - loss: 0.0121 - mae: 0.1187 - val_loss: 0.0120 - val_mae: 0.1183\n",
      "Epoch 44/100\n",
      "7/7 [==============================] - 0s 7ms/step - loss: 0.0120 - mae: 0.1179 - val_loss: 0.0120 - val_mae: 0.1180\n",
      "Epoch 45/100\n",
      "7/7 [==============================] - 0s 7ms/step - loss: 0.0120 - mae: 0.1180 - val_loss: 0.0120 - val_mae: 0.1179\n",
      "Epoch 46/100\n",
      "7/7 [==============================] - 0s 7ms/step - loss: 0.0120 - mae: 0.1179 - val_loss: 0.0120 - val_mae: 0.1179\n",
      "Epoch 47/100\n",
      "7/7 [==============================] - 0s 7ms/step - loss: 0.0121 - mae: 0.1192 - val_loss: 0.0120 - val_mae: 0.1191\n",
      "Epoch 48/100\n",
      "7/7 [==============================] - 0s 7ms/step - loss: 0.0121 - mae: 0.1197 - val_loss: 0.0120 - val_mae: 0.1198\n",
      "Epoch 49/100\n",
      "7/7 [==============================] - 0s 7ms/step - loss: 0.0120 - mae: 0.1199 - val_loss: 0.0120 - val_mae: 0.1196\n",
      "Epoch 50/100\n",
      "7/7 [==============================] - 0s 8ms/step - loss: 0.0120 - mae: 0.1194 - val_loss: 0.0119 - val_mae: 0.1188\n",
      "Epoch 51/100\n",
      "7/7 [==============================] - 0s 8ms/step - loss: 0.0120 - mae: 0.1191 - val_loss: 0.0119 - val_mae: 0.1188\n",
      "Epoch 52/100\n",
      "7/7 [==============================] - 0s 7ms/step - loss: 0.0120 - mae: 0.1183 - val_loss: 0.0119 - val_mae: 0.1179\n",
      "Epoch 53/100\n",
      "7/7 [==============================] - 0s 7ms/step - loss: 0.0119 - mae: 0.1184 - val_loss: 0.0119 - val_mae: 0.1183\n",
      "Epoch 54/100\n",
      "7/7 [==============================] - 0s 8ms/step - loss: 0.0119 - mae: 0.1179 - val_loss: 0.0119 - val_mae: 0.1175\n",
      "Epoch 55/100\n",
      "7/7 [==============================] - 0s 7ms/step - loss: 0.0120 - mae: 0.1176 - val_loss: 0.0119 - val_mae: 0.1170\n",
      "Epoch 56/100\n",
      "7/7 [==============================] - 0s 7ms/step - loss: 0.0120 - mae: 0.1172 - val_loss: 0.0119 - val_mae: 0.1168\n",
      "Epoch 57/100\n",
      "7/7 [==============================] - 0s 7ms/step - loss: 0.0119 - mae: 0.1168 - val_loss: 0.0119 - val_mae: 0.1168\n",
      "Epoch 58/100\n",
      "7/7 [==============================] - 0s 7ms/step - loss: 0.0119 - mae: 0.1173 - val_loss: 0.0119 - val_mae: 0.1175\n",
      "Epoch 59/100\n",
      "7/7 [==============================] - 0s 7ms/step - loss: 0.0119 - mae: 0.1183 - val_loss: 0.0119 - val_mae: 0.1184\n",
      "Epoch 60/100\n",
      "7/7 [==============================] - 0s 8ms/step - loss: 0.0120 - mae: 0.1193 - val_loss: 0.0119 - val_mae: 0.1190\n",
      "Epoch 61/100\n",
      "7/7 [==============================] - 0s 8ms/step - loss: 0.0119 - mae: 0.1191 - val_loss: 0.0119 - val_mae: 0.1187\n",
      "Epoch 62/100\n",
      "7/7 [==============================] - 0s 7ms/step - loss: 0.0119 - mae: 0.1186 - val_loss: 0.0119 - val_mae: 0.1183\n",
      "Epoch 63/100\n",
      "7/7 [==============================] - 0s 7ms/step - loss: 0.0119 - mae: 0.1187 - val_loss: 0.0118 - val_mae: 0.1183\n",
      "Epoch 64/100\n",
      "7/7 [==============================] - 0s 7ms/step - loss: 0.0118 - mae: 0.1181 - val_loss: 0.0118 - val_mae: 0.1175\n",
      "Epoch 65/100\n",
      "7/7 [==============================] - 0s 7ms/step - loss: 0.0119 - mae: 0.1176 - val_loss: 0.0118 - val_mae: 0.1169\n",
      "Epoch 66/100\n",
      "7/7 [==============================] - 0s 7ms/step - loss: 0.0118 - mae: 0.1170 - val_loss: 0.0118 - val_mae: 0.1174\n",
      "Epoch 67/100\n",
      "7/7 [==============================] - 0s 7ms/step - loss: 0.0118 - mae: 0.1178 - val_loss: 0.0118 - val_mae: 0.1178\n",
      "Epoch 68/100\n",
      "7/7 [==============================] - 0s 7ms/step - loss: 0.0118 - mae: 0.1177 - val_loss: 0.0118 - val_mae: 0.1177\n",
      "Epoch 69/100\n",
      "7/7 [==============================] - 0s 7ms/step - loss: 0.0118 - mae: 0.1178 - val_loss: 0.0118 - val_mae: 0.1181\n",
      "Epoch 70/100\n",
      "7/7 [==============================] - 0s 7ms/step - loss: 0.0120 - mae: 0.1196 - val_loss: 0.0119 - val_mae: 0.1194\n",
      "Epoch 71/100\n",
      "7/7 [==============================] - 0s 7ms/step - loss: 0.0119 - mae: 0.1193 - val_loss: 0.0118 - val_mae: 0.1187\n",
      "Epoch 72/100\n",
      "7/7 [==============================] - 0s 7ms/step - loss: 0.0118 - mae: 0.1187 - val_loss: 0.0118 - val_mae: 0.1184\n",
      "Epoch 73/100\n",
      "7/7 [==============================] - 0s 8ms/step - loss: 0.0118 - mae: 0.1183 - val_loss: 0.0118 - val_mae: 0.1175\n",
      "Epoch 74/100\n",
      "7/7 [==============================] - 0s 8ms/step - loss: 0.0119 - mae: 0.1174 - val_loss: 0.0118 - val_mae: 0.1167\n",
      "Epoch 75/100\n",
      "7/7 [==============================] - 0s 7ms/step - loss: 0.0118 - mae: 0.1168 - val_loss: 0.0118 - val_mae: 0.1172\n",
      "Epoch 76/100\n",
      "7/7 [==============================] - 0s 8ms/step - loss: 0.0118 - mae: 0.1173 - val_loss: 0.0118 - val_mae: 0.1176\n",
      "Epoch 77/100\n",
      "7/7 [==============================] - 0s 7ms/step - loss: 0.0118 - mae: 0.1174 - val_loss: 0.0117 - val_mae: 0.1172\n",
      "Epoch 78/100\n",
      "7/7 [==============================] - 0s 8ms/step - loss: 0.0117 - mae: 0.1169 - val_loss: 0.0117 - val_mae: 0.1164\n",
      "Epoch 79/100\n",
      "7/7 [==============================] - 0s 8ms/step - loss: 0.0117 - mae: 0.1161 - val_loss: 0.0118 - val_mae: 0.1160\n",
      "Epoch 80/100\n",
      "7/7 [==============================] - 0s 8ms/step - loss: 0.0118 - mae: 0.1159 - val_loss: 0.0118 - val_mae: 0.1156\n",
      "Epoch 81/100\n",
      "7/7 [==============================] - 0s 8ms/step - loss: 0.0119 - mae: 0.1156 - val_loss: 0.0118 - val_mae: 0.1153\n",
      "Epoch 82/100\n",
      "7/7 [==============================] - 0s 7ms/step - loss: 0.0118 - mae: 0.1153 - val_loss: 0.0118 - val_mae: 0.1154\n",
      "Epoch 83/100\n",
      "7/7 [==============================] - 0s 7ms/step - loss: 0.0118 - mae: 0.1156 - val_loss: 0.0118 - val_mae: 0.1155\n",
      "Epoch 84/100\n",
      "7/7 [==============================] - 0s 7ms/step - loss: 0.0118 - mae: 0.1156 - val_loss: 0.0117 - val_mae: 0.1156\n",
      "Epoch 85/100\n",
      "7/7 [==============================] - 0s 7ms/step - loss: 0.0117 - mae: 0.1156 - val_loss: 0.0117 - val_mae: 0.1157\n",
      "Epoch 86/100\n",
      "7/7 [==============================] - 0s 7ms/step - loss: 0.0117 - mae: 0.1158 - val_loss: 0.0117 - val_mae: 0.1161\n",
      "Epoch 87/100\n",
      "7/7 [==============================] - 0s 8ms/step - loss: 0.0117 - mae: 0.1164 - val_loss: 0.0117 - val_mae: 0.1167\n",
      "Epoch 88/100\n",
      "7/7 [==============================] - 0s 8ms/step - loss: 0.0118 - mae: 0.1175 - val_loss: 0.0117 - val_mae: 0.1176\n",
      "Epoch 89/100\n",
      "7/7 [==============================] - 0s 7ms/step - loss: 0.0117 - mae: 0.1177 - val_loss: 0.0117 - val_mae: 0.1177\n",
      "Epoch 90/100\n",
      "7/7 [==============================] - 0s 8ms/step - loss: 0.0117 - mae: 0.1179 - val_loss: 0.0117 - val_mae: 0.1176\n",
      "Epoch 91/100\n",
      "7/7 [==============================] - 0s 9ms/step - loss: 0.0116 - mae: 0.1173 - val_loss: 0.0117 - val_mae: 0.1167\n",
      "Epoch 92/100\n",
      "7/7 [==============================] - 0s 8ms/step - loss: 0.0116 - mae: 0.1162 - val_loss: 0.0117 - val_mae: 0.1155\n",
      "Epoch 93/100\n",
      "7/7 [==============================] - 0s 7ms/step - loss: 0.0118 - mae: 0.1154 - val_loss: 0.0117 - val_mae: 0.1150\n",
      "Epoch 94/100\n",
      "7/7 [==============================] - 0s 7ms/step - loss: 0.0118 - mae: 0.1152 - val_loss: 0.0117 - val_mae: 0.1150\n",
      "Epoch 95/100\n",
      "7/7 [==============================] - 0s 8ms/step - loss: 0.0117 - mae: 0.1150 - val_loss: 0.0117 - val_mae: 0.1147\n",
      "Epoch 96/100\n",
      "7/7 [==============================] - 0s 8ms/step - loss: 0.0118 - mae: 0.1147 - val_loss: 0.0117 - val_mae: 0.1146\n",
      "Epoch 97/100\n",
      "7/7 [==============================] - 0s 7ms/step - loss: 0.0118 - mae: 0.1150 - val_loss: 0.0117 - val_mae: 0.1148\n",
      "Epoch 98/100\n",
      "7/7 [==============================] - 0s 7ms/step - loss: 0.0117 - mae: 0.1149 - val_loss: 0.0117 - val_mae: 0.1150\n",
      "Epoch 99/100\n",
      "7/7 [==============================] - 0s 7ms/step - loss: 0.0117 - mae: 0.1150 - val_loss: 0.0116 - val_mae: 0.1151\n",
      "Epoch 100/100\n",
      "7/7 [==============================] - 0s 7ms/step - loss: 0.0117 - mae: 0.1151 - val_loss: 0.0116 - val_mae: 0.1150\n"
     ]
    }
   ],
   "execution_count": 66
  },
  {
   "metadata": {
    "ExecuteTime": {
     "end_time": "2024-06-15T09:32:30.250810Z",
     "start_time": "2024-06-15T09:32:30.244295Z"
    }
   },
   "cell_type": "code",
   "source": [
    "def forecast(model, series, time_step):\n",
    "    series = np.array(series).reshape(-1, 1)\n",
    "    data_scaled = scaler.transform(series)\n",
    "\n",
    "    dataset = tf.data.Dataset.from_tensor_slices(data_scaled)\n",
    "    dataset = dataset.window(size=time_step, shift=1, drop_remainder=True)\n",
    "    dataset = dataset.flat_map(lambda window: window.batch(time_step))\n",
    "    dataset = dataset.batch(1).prefetch(1)\n",
    "\n",
    "    forecast = model.predict(dataset)\n",
    "    forecast = scaler.inverse_transform(forecast)\n",
    "\n",
    "    return forecast"
   ],
   "id": "4811389be5366732",
   "outputs": [],
   "execution_count": 67
  },
  {
   "metadata": {
    "ExecuteTime": {
     "end_time": "2024-06-15T09:32:30.326030Z",
     "start_time": "2024-06-15T09:32:30.251810Z"
    }
   },
   "cell_type": "code",
   "source": [
    "# Contoh prediksi untuk bulan berikutnya\n",
    "last_n_values = data_puskesmas_a[data_puskesmas_a['Periode'] == data_puskesmas_a['Periode'].iloc[-1]][\n",
    "                    'Total Kunjungan'].values[-N_PAST:]\n",
    "next_month_prediction = forecast(model, last_n_values, N_PAST)\n",
    "prediction = round(next_month_prediction[0][0])\n",
    "print(\"Forecast for next period:\", prediction)"
   ],
   "id": "3782de323d8d2eee",
   "outputs": [
    {
     "name": "stdout",
     "output_type": "stream",
     "text": [
      "WARNING:tensorflow:6 out of the last 6 calls to <function Model.make_predict_function.<locals>.predict_function at 0x000001A9AF008D30> triggered tf.function retracing. Tracing is expensive and the excessive number of tracings could be due to (1) creating @tf.function repeatedly in a loop, (2) passing tensors with different shapes, (3) passing Python objects instead of tensors. For (1), please define your @tf.function outside of the loop. For (2), @tf.function has reduce_retracing=True option that can avoid unnecessary retracing. For (3), please refer to https://www.tensorflow.org/guide/function#controlling_retracing and https://www.tensorflow.org/api_docs/python/tf/function for  more details.\n",
      "1/1 [==============================] - 0s 51ms/step\n",
      "Forecast for next period: 4124\n"
     ]
    }
   ],
   "execution_count": 68
  },
  {
   "metadata": {
    "ExecuteTime": {
     "end_time": "2024-06-15T09:32:30.329032Z",
     "start_time": "2024-06-15T09:32:30.327030Z"
    }
   },
   "cell_type": "code",
   "source": "",
   "id": "51147f5d9c3d0466",
   "outputs": [],
   "execution_count": 68
  }
 ],
 "metadata": {
  "kernelspec": {
   "display_name": "Python 3",
   "language": "python",
   "name": "python3"
  },
  "language_info": {
   "codemirror_mode": {
    "name": "ipython",
    "version": 2
   },
   "file_extension": ".py",
   "mimetype": "text/x-python",
   "name": "python",
   "nbconvert_exporter": "python",
   "pygments_lexer": "ipython2",
   "version": "2.7.6"
  }
 },
 "nbformat": 4,
 "nbformat_minor": 5
}
